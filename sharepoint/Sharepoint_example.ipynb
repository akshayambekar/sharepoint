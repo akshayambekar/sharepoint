{
 "cells": [
  {
   "cell_type": "code",
   "execution_count": 1,
   "metadata": {},
   "outputs": [],
   "source": [
    "from getpass import getpass  # Needed for secure password input.\n",
    "import pandas as pd\n",
    "from sharepoint import site_login, get_new_site\n",
    "from lxml import etree\n",
    "from pprint import pprint\n",
    "\n",
    "import logging\n",
    "import sys\n",
    "logging.basicConfig(stream=sys.stdout, level=logging.INFO)"
   ]
  },
  {
   "cell_type": "markdown",
   "metadata": {},
   "source": [
    "# Downloading a single file\n",
    "## *site_url* variable\n",
    " * Site url is the address ot your sharepoint site.\n",
    " * url must contain https:// prefix\n",
    " * If content is in a SharePoint subsite include path to subsite: *https://<span></span>sites.bms.com/teams/[ParentSite]/[SubSite]*\n",
    " * If you are unsure about formatting, try copy and pasting the entire url to your deisred content\n",
    " \n",
    "## *file_path* variable\n",
    " * file_path is the path used on SharePoint without the *https://<span></span>site.bms.com* prefix\n",
    " * Spaces are OK in file_path. Percent encoded strings (e.g. %20 for spaces) are also OK.\n",
    " * If unsure about path try copy and pasting url and delete *https://<span></span>sites.bms.com*"
   ]
  },
  {
   "cell_type": "code",
   "execution_count": null,
   "metadata": {},
   "outputs": [],
   "source": [
    "site_url = \"https://fqdn.of.your.sharepoint/PathToTeamsite/\"\n",
    "file_path = \"SomeSiteDirectory/SomeFilename.xlsx\"\n",
    "\n",
    "site = site_login(site_url, getpass)  # returns an SPSite object that contains methods for accesing any content on site\n",
    "file = site.get_file_by_path(file_path)  # get_file method returns an object with file meta_data\n",
    "filename = file.attribute(\"Name\")  # Get the filename.\n",
    "file.download(\"./test\")  # To save file to disk call the download method. This file will be saved in the \"test\" folder."
   ]
  },
  {
   "cell_type": "markdown",
   "metadata": {},
   "source": [
    "# Downloading an entire folder\n",
    "* Use site.get_folder to retrieve object with folder metadata\n",
    "* Use folder.download to save folder contents to disk\n",
    "* maxdepth argument in folder.download determines how many subfolder levels to download"
   ]
  },
  {
   "cell_type": "code",
   "execution_count": null,
   "metadata": {
    "scrolled": true
   },
   "outputs": [],
   "source": [
    "# Specify url and path variables\n",
    "\n",
    "site_url = \"https://fqdn.of.your.sharepoint/PathToTeamSite/\"\n",
    "folder_path = \"SomeSiteDirectory\"\n",
    "\n",
    "# Create site object\n",
    "site = site_login(site_url, getpass)  # returns an SPSite object that contains methods for accesing any content on site\n",
    "# If you are already logged into another site, use get_new_site ot avoid having to re-login\n",
    "site2 = get_new_site(site_url, site)\n",
    "folder = site2.get_folder(folder_path)\n",
    "folder.download('./test')  # Download all folder contents into \"test\" folder"
   ]
  },
  {
   "cell_type": "markdown",
   "metadata": {},
   "source": [
    "# Upload files to SharePoint"
   ]
  },
  {
   "cell_type": "code",
   "execution_count": null,
   "metadata": {
    "scrolled": true
   },
   "outputs": [],
   "source": [
    "site_url = \"https://fqdn.of.your.sharepoint/PathToTeamSite/\"\n",
    "site = get_new_site(site_url, site)\n",
    "\n",
    "# Create dummy file\n",
    "with open('./test/test.txt', 'w') as f:\n",
    "    f.write('test')\n",
    "    \n",
    "folder = site.get_folder('/SomeSiteDirectory')\n",
    "folder.upload_file('./test/test.txt')"
   ]
  },
  {
   "cell_type": "markdown",
   "metadata": {
    "collapsed": true
   },
   "source": [
    "# Working with file metadata\n",
    "All file metadata can be accessed with the attribute method. Custom metadata is accessed with file.attribute('Properties')"
   ]
  },
  {
   "cell_type": "code",
   "execution_count": null,
   "metadata": {
    "scrolled": true
   },
   "outputs": [],
   "source": [
    "site_url = \"https://fqdn.of.your.sharepoint/PathToTeamsite/\"\n",
    "file_path = \"SomeSiteDirectory/SomeFilename.xlsx\"\n",
    "\n",
    "site = site_login(rce_arf_url, getpass)  # returns an SPSite object that contains methods for accesing any content on site\n",
    "rce_arf_site = get_new_site(rce_arf_url, site)\n",
    "folder = rce_arf_site.get_folder(path)\n",
    "\n",
    "# Walk down the folder structure and record metadata\n",
    "file_info = []\n",
    "for folder, _, files in folder.walk():\n",
    "    for file in files:\n",
    "        try:\n",
    "            topic = file.attribute('Properties').attribute('Topic')\n",
    "        except:  # if Topic doesn't exist, assign it to \"other\"\n",
    "            topic = \"other\"\n",
    "        if not topic:\n",
    "            topic = \"other\"\n",
    "        file_info.append({'File': file.attribute('Name'), 'Topic': topic})\n",
    "\n",
    "file_info"
   ]
  }
 ],
 "metadata": {
  "kernelspec": {
   "display_name": "Python 3",
   "language": "python",
   "name": "python3"
  },
  "language_info": {
   "codemirror_mode": {
    "name": "ipython",
    "version": 3
   },
   "file_extension": ".py",
   "mimetype": "text/x-python",
   "name": "python",
   "nbconvert_exporter": "python",
   "pygments_lexer": "ipython3",
   "version": "3.6.8"
  }
 },
 "nbformat": 4,
 "nbformat_minor": 1
}
